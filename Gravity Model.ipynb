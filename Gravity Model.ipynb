{
 "cells": [
  {
   "cell_type": "markdown",
   "source": [
    "Gravity Model Implementation "
   ],
   "metadata": {
    "collapsed": false
   },
   "id": "1ca158835af89345"
  },
  {
   "cell_type": "code",
   "execution_count": 2,
   "id": "initial_id",
   "metadata": {
    "collapsed": true,
    "ExecuteTime": {
     "end_time": "2025-02-15T19:03:08.643183800Z",
     "start_time": "2025-02-15T19:03:06.255981500Z"
    }
   },
   "outputs": [],
   "source": [
    "import numpy as np\n",
    "import pandas as pd"
   ]
  },
  {
   "cell_type": "code",
   "outputs": [],
   "source": [
    "# Define the Cost Function\n",
    "Cij = np.array([\n",
    "    [0, 0, 50, 0, 0],\n",
    "    [0, 0, 60, 0, 0],\n",
    "    [0, 0, 0, 30, 0],\n",
    "    [20, 0, 80, 0, 20],\n",
    "    [0, 70, 90, 10, 0]\n",
    "], dtype=np.float64)\n"
   ],
   "metadata": {
    "collapsed": false,
    "ExecuteTime": {
     "end_time": "2025-02-15T19:03:12.510310100Z",
     "start_time": "2025-02-15T19:03:12.490960400Z"
    }
   },
   "id": "a1548676eb7f3d1d",
   "execution_count": 3
  },
  {
   "cell_type": "code",
   "outputs": [],
   "source": [
    "# Replace zeros in Cij to avoid division/log errors\n",
    "Cij[Cij == 0] = 1e-6"
   ],
   "metadata": {
    "collapsed": false,
    "ExecuteTime": {
     "end_time": "2025-02-15T19:03:15.254829300Z",
     "start_time": "2025-02-15T19:03:15.236815800Z"
    }
   },
   "id": "5f60daac082e99ef",
   "execution_count": 4
  },
  {
   "cell_type": "code",
   "outputs": [],
   "source": [
    "# Define Origin and Destination vectors\n",
    "O = np.array([80, 150, 100, 160, 180])\n",
    "D = np.array([100, 90, 320, 80, 300])\n"
   ],
   "metadata": {
    "collapsed": false,
    "ExecuteTime": {
     "end_time": "2025-02-15T19:03:17.582145200Z",
     "start_time": "2025-02-15T19:03:17.564093200Z"
    }
   },
   "id": "aefdda173ca1c6fa",
   "execution_count": 5
  },
  {
   "cell_type": "code",
   "outputs": [],
   "source": [
    "# Check and balance the vectors O and D\n",
    "sum_O = np.sum(O)\n",
    "sum_D = np.sum(D)\n"
   ],
   "metadata": {
    "collapsed": false,
    "ExecuteTime": {
     "end_time": "2025-02-15T19:03:18.268838600Z",
     "start_time": "2025-02-15T19:03:18.257316900Z"
    }
   },
   "id": "730188fcf0707a4e",
   "execution_count": 6
  },
  {
   "cell_type": "code",
   "outputs": [],
   "source": [
    "# Balancing the Origins and Destinations\n",
    "if sum_O != sum_D:\n",
    "    if sum_O < sum_D:\n",
    "        correction_ratio = sum_D / sum_O  # Calculate correction ratio\n",
    "        O = O * correction_ratio  # Adjust O by the correction ratio\n",
    "    else:\n",
    "        correction_ratio = sum_O / sum_D  # Calculate correction ratio\n",
    "        D = D * correction_ratio  # Adjust D by the correction ratio"
   ],
   "metadata": {
    "collapsed": false,
    "ExecuteTime": {
     "end_time": "2025-02-15T19:03:18.891679400Z",
     "start_time": "2025-02-15T19:03:18.881158200Z"
    }
   },
   "id": "d9d89ac15733a8cb",
   "execution_count": 7
  },
  {
   "cell_type": "code",
   "outputs": [],
   "source": [
    "# Define the deterrence function\n",
    "def fcij(Cij):\n",
    "    alpha = 0.05\n",
    "    beta = 0.2\n",
    "    return alpha * np.exp(-beta * (np.log(Cij + 1))**2)\n",
    "\n",
    "FCij = fcij(Cij)\n"
   ],
   "metadata": {
    "collapsed": false,
    "ExecuteTime": {
     "end_time": "2025-02-15T19:03:19.887819100Z",
     "start_time": "2025-02-15T19:03:19.827718900Z"
    }
   },
   "id": "624afe2666faa5f7",
   "execution_count": 8
  },
  {
   "cell_type": "code",
   "outputs": [],
   "source": [
    "\n",
    "# Gravity Model Implementation\n",
    "def gravity_distribution(FCij, O, D, tol=1e-4, max_iter=100):\n",
    "    n = len(O)\n",
    "    A = np.ones(n)\n",
    "    B = np.ones(n)\n",
    "    T = np.zeros((n, n))\n",
    "    T_total = np.sum(O)  # Total trips (same for O and D)\n",
    "\n",
    "    \n",
    "    for iteration in range(max_iter):\n",
    "        # Update A_i\n",
    "        for i in range(n):\n",
    "            #A[i] = 1 / np.sum(B * D * FCij[i, :])\n",
    "            A[i] = 1 / max(np.sum(B * D * FCij[i, :]), 1e-6)\n",
    "\n",
    "        # Update B_j\n",
    "        for j in range(n):\n",
    "            #B[j] = 1 / np.sum(A * O * FCij[:, j])\n",
    "            B[j] = 1 / max(np.sum(A * O * FCij[:, j]), 1e-6)\n",
    "\n",
    "        # Calculate T_ij\n",
    "        for i in range(n):\n",
    "            for j in range(n):\n",
    "                T[i, j] = A[i] * O[i] * B[j] * D[j] * FCij[i, j]\n",
    "        \n",
    "        # Error calculation based on the provided formula\n",
    "        production_error = np.sum(np.abs(O - T.sum(axis=1)))\n",
    "        attraction_error = np.sum(np.abs(D - T.sum(axis=0)))\n",
    "        error_percentage = (production_error + attraction_error) / T_total * 100\n",
    "        \n",
    "        # Create DataFrame for displaying T\n",
    "        T_df = pd.DataFrame(\n",
    "            T,\n",
    "            index=['A', 'B', 'C', 'D', 'E'],\n",
    "            columns=['A', 'B', 'C', 'D', 'E']\n",
    "        )\n",
    "        \n",
    "        # Add row and column summations\n",
    "        T_df[\"Row Sum\"] = T_df.sum(axis=1)  # Add row sums\n",
    "        T_df.loc[\"Column Sum\"] = T_df.sum(axis=0)  # Add column sums\n",
    "        \n",
    "        # Display the matrix\n",
    "        print(f\"Iteration {iteration + 1}:\\n\")\n",
    "        print(T_df.round(2))\n",
    "        print(f\"\\nError: {error_percentage:.6f}\\n{'-'*50}\")\n",
    "        \n",
    "        # Check for convergence\n",
    "        if error_percentage < tol:\n",
    "            break\n",
    "    \n",
    "    return T"
   ],
   "metadata": {
    "collapsed": false,
    "ExecuteTime": {
     "end_time": "2025-02-15T19:03:20.562616Z",
     "start_time": "2025-02-15T19:03:20.556103200Z"
    }
   },
   "id": "4aea74701acac089",
   "execution_count": 9
  },
  {
   "cell_type": "code",
   "outputs": [
    {
     "name": "stdout",
     "output_type": "stream",
     "text": [
      "Iteration 1:\n",
      "\n",
      "                 A      B       C      D       E  Row Sum\n",
      "A            13.19  10.29   12.55   9.07   39.57    84.68\n",
      "B            24.89  19.42   17.76  17.12   74.66   153.84\n",
      "C            11.79   9.20  246.99   0.77   35.36   304.10\n",
      "D            10.09  50.26   28.37  44.31   30.27   163.31\n",
      "E            40.05   0.83   14.34   8.72  120.14   184.07\n",
      "Column Sum  100.00  90.00  320.00  80.00  300.00   890.00\n",
      "\n",
      "Error: 38.487016\n",
      "--------------------------------------------------\n",
      "Iteration 2:\n",
      "\n",
      "                 A      B       C      D       E  Row Sum\n",
      "A            13.90  10.71   24.93   8.85   41.70   100.09\n",
      "B            27.07  20.85   36.40  17.24   81.20   182.75\n",
      "C             4.32   3.33  170.76   0.26   12.97   191.64\n",
      "D            11.03  54.22   58.44  44.84   33.08   201.61\n",
      "E            43.68   0.89   29.47   8.81  131.05   213.90\n",
      "Column Sum  100.00  90.00  320.00  80.00  300.00   890.00\n",
      "\n",
      "Error: 13.215132\n",
      "--------------------------------------------------\n",
      "Iteration 3:\n",
      "\n",
      "                 A      B       C      D       E  Row Sum\n",
      "A            13.70  10.82   30.35   8.80   41.10   104.77\n",
      "B            27.40  21.63   45.51  17.59   82.19   194.31\n",
      "C             2.78   2.20  135.72   0.17    8.35   149.21\n",
      "D            10.79  54.40   70.64  44.23   32.37   212.45\n",
      "E            45.33   0.95   37.78   9.22  135.99   229.26\n",
      "Column Sum  100.00  90.00  320.00  80.00  300.00   890.00\n",
      "\n",
      "Error: 3.680559\n",
      "--------------------------------------------------\n",
      "Iteration 4:\n",
      "\n",
      "                 A      B       C      D       E  Row Sum\n",
      "A            13.55  10.91   31.95   8.81   40.66   105.89\n",
      "B            27.40  22.05   48.43  17.82   82.19   197.89\n",
      "C             2.42   1.94  125.39   0.15    7.25   137.14\n",
      "D            10.53  54.11   73.35  43.72   31.59   213.29\n",
      "E            46.11   0.98   40.89   9.50  138.32   235.79\n",
      "Column Sum  100.00  90.00  320.00  80.00  300.00   890.00\n",
      "\n",
      "Error: 1.137465\n",
      "--------------------------------------------------\n",
      "Iteration 5:\n",
      "\n",
      "                 A      B       C      D       E  Row Sum\n",
      "A            13.50  10.96   32.39   8.83   40.49   106.16\n",
      "B            27.37  22.22   49.25  17.91   82.12   198.88\n",
      "C             2.32   1.88  122.67   0.14    6.97   133.98\n",
      "D            10.41  53.95   73.82  43.50   31.23   212.91\n",
      "E            46.40   0.99   41.88   9.61  139.19   238.07\n",
      "Column Sum  100.00  90.00  320.00  80.00  300.00   890.00\n",
      "\n",
      "Error: 0.340159\n",
      "--------------------------------------------------\n",
      "Iteration 6:\n",
      "\n",
      "                 A      B       C      D       E  Row Sum\n",
      "A            13.48  10.97   32.51   8.84   40.44   106.24\n",
      "B            27.36  22.27   49.48  17.95   82.09   199.15\n",
      "C             2.30   1.87  121.95   0.14    6.89   133.15\n",
      "D            10.37  53.89   73.89  43.42   31.11   212.67\n",
      "E            46.49   1.00   42.18   9.65  139.47   238.79\n",
      "Column Sum  100.00  90.00  320.00  80.00  300.00   890.00\n",
      "\n",
      "Error: 0.099926\n",
      "--------------------------------------------------\n",
      "Iteration 7:\n",
      "\n",
      "                 A      B       C      D       E  Row Sum\n",
      "A            13.47  10.98   32.54   8.84   40.42   106.26\n",
      "B            27.36  22.29   49.54  17.96   82.08   199.22\n",
      "C             2.29   1.87  121.76   0.14    6.87   132.92\n",
      "D            10.36  53.87   73.90  43.39   31.07   212.58\n",
      "E            46.52   1.00   42.26   9.67  139.56   239.01\n",
      "Column Sum  100.00  90.00  320.00  80.00  300.00   890.00\n",
      "\n",
      "Error: 0.029081\n",
      "--------------------------------------------------\n",
      "Iteration 8:\n",
      "\n",
      "                 A      B       C      D       E  Row Sum\n",
      "A            13.47  10.98   32.55   8.84   40.42   106.27\n",
      "B            27.36  22.30   49.56  17.96   82.07   199.25\n",
      "C             2.29   1.86  121.70   0.14    6.86   132.86\n",
      "D            10.35  53.86   73.90  43.38   31.06   212.55\n",
      "E            46.53   1.00   42.29   9.67  139.59   239.08\n",
      "Column Sum  100.00  90.00  320.00  80.00  300.00   890.00\n",
      "\n",
      "Error: 0.008419\n",
      "--------------------------------------------------\n",
      "Iteration 9:\n",
      "\n",
      "                 A      B       C      D       E  Row Sum\n",
      "A            13.47  10.98   32.55   8.84   40.42   106.27\n",
      "B            27.36  22.30   49.56  17.96   82.07   199.25\n",
      "C             2.29   1.86  121.69   0.14    6.86   132.84\n",
      "D            10.35  53.86   73.90  43.38   31.05   212.54\n",
      "E            46.53   1.00   42.29   9.67  139.60   239.10\n",
      "Column Sum  100.00  90.00  320.00  80.00  300.00   890.00\n",
      "\n",
      "Error: 0.002430\n",
      "--------------------------------------------------\n",
      "Iteration 10:\n",
      "\n",
      "                 A      B       C      D       E  Row Sum\n",
      "A            13.47  10.98   32.55   8.84   40.42   106.27\n",
      "B            27.36  22.30   49.56  17.96   82.07   199.25\n",
      "C             2.29   1.86  121.68   0.14    6.86   132.84\n",
      "D            10.35  53.86   73.90  43.38   31.05   212.54\n",
      "E            46.53   1.00   42.30   9.67  139.60   239.10\n",
      "Column Sum  100.00  90.00  320.00  80.00  300.00   890.00\n",
      "\n",
      "Error: 0.000700\n",
      "--------------------------------------------------\n",
      "Iteration 11:\n",
      "\n",
      "                 A      B       C      D       E  Row Sum\n",
      "A            13.47  10.98   32.55   8.84   40.42   106.27\n",
      "B            27.36  22.30   49.56  17.96   82.07   199.25\n",
      "C             2.29   1.86  121.68   0.14    6.86   132.84\n",
      "D            10.35  53.86   73.90  43.38   31.05   212.54\n",
      "E            46.53   1.00   42.30   9.67  139.60   239.10\n",
      "Column Sum  100.00  90.00  320.00  80.00  300.00   890.00\n",
      "\n",
      "Error: 0.000201\n",
      "--------------------------------------------------\n",
      "Iteration 12:\n",
      "\n",
      "                 A      B       C      D       E  Row Sum\n",
      "A            13.47  10.98   32.55   8.84   40.42   106.27\n",
      "B            27.36  22.30   49.56  17.96   82.07   199.25\n",
      "C             2.29   1.86  121.68   0.14    6.86   132.84\n",
      "D            10.35  53.86   73.90  43.38   31.05   212.54\n",
      "E            46.53   1.00   42.30   9.67  139.60   239.10\n",
      "Column Sum  100.00  90.00  320.00  80.00  300.00   890.00\n",
      "\n",
      "Error: 0.000058\n",
      "--------------------------------------------------\n",
      "Final Trip Distribution Matrix with Row and Column Sums:\n",
      "\n",
      "                 A      B       C      D       E  Row Sum\n",
      "A            13.47  10.98   32.55   8.84   40.42   106.27\n",
      "B            27.36  22.30   49.56  17.96   82.07   199.25\n",
      "C             2.29   1.86  121.68   0.14    6.86   132.84\n",
      "D            10.35  53.86   73.90  43.38   31.05   212.54\n",
      "E            46.53   1.00   42.30   9.67  139.60   239.10\n",
      "Column Sum  100.00  90.00  320.00  80.00  300.00   890.00\n"
     ]
    }
   ],
   "source": [
    "# Run the gravity model\n",
    "T = gravity_distribution(FCij, O, D)\n",
    "\n",
    "# Display the final result\n",
    "print(\"Final Trip Distribution Matrix with Row and Column Sums:\\n\")\n",
    "final_output = pd.DataFrame(\n",
    "    T, index=['A', 'B', 'C', 'D', 'E'], columns=['A', 'B', 'C', 'D', 'E']\n",
    ")\n",
    "final_output[\"Row Sum\"] = final_output.sum(axis=1)  # Add row sums\n",
    "final_output.loc[\"Column Sum\"] = final_output.sum(axis=0)  # Add column sums\n",
    "print(final_output.round(2))\n"
   ],
   "metadata": {
    "collapsed": false,
    "ExecuteTime": {
     "end_time": "2025-02-15T19:03:52.078084600Z",
     "start_time": "2025-02-15T19:03:51.945463800Z"
    }
   },
   "id": "b6097dd55c1629e0",
   "execution_count": 10
  },
  {
   "cell_type": "code",
   "outputs": [],
   "source": [],
   "metadata": {
    "collapsed": false,
    "ExecuteTime": {
     "start_time": "2025-02-15T19:02:17.687094400Z"
    }
   },
   "id": "c02ebe090b2b4036"
  },
  {
   "cell_type": "code",
   "outputs": [],
   "source": [],
   "metadata": {
    "collapsed": false
   },
   "id": "de71f3741bd96090"
  }
 ],
 "metadata": {
  "kernelspec": {
   "display_name": "Python 3",
   "language": "python",
   "name": "python3"
  },
  "language_info": {
   "codemirror_mode": {
    "name": "ipython",
    "version": 2
   },
   "file_extension": ".py",
   "mimetype": "text/x-python",
   "name": "python",
   "nbconvert_exporter": "python",
   "pygments_lexer": "ipython2",
   "version": "2.7.6"
  }
 },
 "nbformat": 4,
 "nbformat_minor": 5
}
