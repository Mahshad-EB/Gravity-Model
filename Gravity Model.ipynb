{
 "cells": [
  {
   "cell_type": "markdown",
   "source": [
    "Gravity Model Implementation "
   ],
   "metadata": {
    "collapsed": false
   },
   "id": "1ca158835af89345"
  },
  {
   "cell_type": "code",
   "execution_count": null,
   "id": "initial_id",
   "metadata": {
    "collapsed": true,
    "is_executing": true
   },
   "outputs": [],
   "source": [
    "import numpy as np\n",
    "import pandas as pd"
   ]
  },
  {
   "cell_type": "code",
   "outputs": [],
   "source": [
    "# Define the Cost Function\n",
    "Cij = np.array([\n",
    "    [0, 0, 50, 0, 0],\n",
    "    [0, 0, 60, 0, 0],\n",
    "    [0, 0, 0, 30, 0],\n",
    "    [20, 0, 80, 0, 20],\n",
    "    [0, 70, 90, 10, 0]\n",
    "], dtype=np.float64)\n"
   ],
   "metadata": {
    "collapsed": false
   },
   "id": "a1548676eb7f3d1d"
  },
  {
   "cell_type": "code",
   "outputs": [],
   "source": [
    "# Replace zeros in Cij to avoid division/log errors\n",
    "Cij[Cij == 0] = 1e-6"
   ],
   "metadata": {
    "collapsed": false
   },
   "id": "5f60daac082e99ef"
  },
  {
   "cell_type": "code",
   "outputs": [],
   "source": [
    "# Define Origin and Destination vectors\n",
    "O = np.array([80, 150, 100, 160, 180])\n",
    "D = np.array([100, 90, 320, 80, 300])\n"
   ],
   "metadata": {
    "collapsed": false
   },
   "id": "aefdda173ca1c6fa"
  },
  {
   "cell_type": "code",
   "outputs": [],
   "source": [
    "# Check and balance the vectors O and D\n",
    "sum_O = np.sum(O)\n",
    "sum_D = np.sum(D)\n"
   ],
   "metadata": {
    "collapsed": false
   },
   "id": "730188fcf0707a4e"
  },
  {
   "cell_type": "code",
   "outputs": [],
   "source": [
    "# Balancing the Origins and Destinations\n",
    "if sum_O != sum_D:\n",
    "    if sum_O < sum_D:\n",
    "        correction_ratio = sum_D / sum_O  # Calculate correction ratio\n",
    "        O = O * correction_ratio  # Adjust O by the correction ratio\n",
    "    else:\n",
    "        correction_ratio = sum_O / sum_D  # Calculate correction ratio\n",
    "        D = D * correction_ratio  # Adjust D by the correction ratio"
   ],
   "metadata": {
    "collapsed": false
   },
   "id": "d9d89ac15733a8cb"
  },
  {
   "cell_type": "code",
   "outputs": [],
   "source": [
    "# Define the deterrence function\n",
    "def fcij(Cij):\n",
    "    alpha = 0.05\n",
    "    beta = 0.2\n",
    "    return alpha * np.exp(-beta * (np.log(Cij + 1))**2)\n",
    "\n",
    "FCij = fcij(Cij)\n"
   ],
   "metadata": {
    "collapsed": false
   },
   "id": "624afe2666faa5f7"
  },
  {
   "cell_type": "code",
   "outputs": [],
   "source": [
    "\n",
    "# Gravity Model Implementation\n",
    "def gravity_distribution(FCij, O, D, tol=1e-4, max_iter=100):\n",
    "    n = len(O)\n",
    "    A = np.ones(n)\n",
    "    B = np.ones(n)\n",
    "    T = np.zeros((n, n))\n",
    "    T_total = np.sum(O)  # Total trips (same for O and D)\n",
    "\n",
    "    \n",
    "    for iteration in range(max_iter):\n",
    "        # Update A_i\n",
    "        for i in range(n):\n",
    "            #A[i] = 1 / np.sum(B * D * FCij[i, :])\n",
    "            A[i] = 1 / max(np.sum(B * D * FCij[i, :]), 1e-6)\n",
    "\n",
    "        # Update B_j\n",
    "        for j in range(n):\n",
    "            #B[j] = 1 / np.sum(A * O * FCij[:, j])\n",
    "            B[j] = 1 / max(np.sum(A * O * FCij[:, j]), 1e-6)\n",
    "\n",
    "        # Calculate T_ij\n",
    "        for i in range(n):\n",
    "            for j in range(n):\n",
    "                T[i, j] = A[i] * O[i] * B[j] * D[j] * FCij[i, j]\n",
    "        \n",
    "        # Error calculation based on the provided formula\n",
    "        production_error = np.sum(np.abs(O - T.sum(axis=1)))\n",
    "        attraction_error = np.sum(np.abs(D - T.sum(axis=0)))\n",
    "        error_percentage = (production_error + attraction_error) / T_total * 100\n",
    "        \n",
    "        # Create DataFrame for displaying T\n",
    "        T_df = pd.DataFrame(\n",
    "            T,\n",
    "            index=['A', 'B', 'C', 'D', 'E'],\n",
    "            columns=['A', 'B', 'C', 'D', 'E']\n",
    "        )\n",
    "        \n",
    "        # Add row and column summations\n",
    "        T_df[\"Row Sum\"] = T_df.sum(axis=1)  # Add row sums\n",
    "        T_df.loc[\"Column Sum\"] = T_df.sum(axis=0)  # Add column sums\n",
    "        \n",
    "        # Display the matrix\n",
    "        print(f\"Iteration {iteration + 1}:\\n\")\n",
    "        print(T_df.round(2))\n",
    "        print(f\"\\nError: {error_percentage:.6f}\\n{'-'*50}\")\n",
    "        \n",
    "        # Check for convergence\n",
    "        if error_percentage < tol:\n",
    "            break\n",
    "    \n",
    "    return T"
   ],
   "metadata": {
    "collapsed": false
   },
   "id": "4aea74701acac089"
  },
  {
   "cell_type": "code",
   "outputs": [],
   "source": [
    "# Run the gravity model\n",
    "T = gravity_distribution(FCij, O, D)\n",
    "\n",
    "# Display the final result\n",
    "print(\"Final Trip Distribution Matrix with Row and Column Sums:\\n\")\n",
    "final_output = pd.DataFrame(\n",
    "    T, index=['A', 'B', 'C', 'D', 'E'], columns=['A', 'B', 'C', 'D', 'E']\n",
    ")\n",
    "final_output[\"Row Sum\"] = final_output.sum(axis=1)  # Add row sums\n",
    "final_output.loc[\"Column Sum\"] = final_output.sum(axis=0)  # Add column sums\n",
    "print(final_output.round(2))\n"
   ],
   "metadata": {
    "collapsed": false
   },
   "id": "b6097dd55c1629e0"
  }
 ],
 "metadata": {
  "kernelspec": {
   "display_name": "Python 3",
   "language": "python",
   "name": "python3"
  },
  "language_info": {
   "codemirror_mode": {
    "name": "ipython",
    "version": 2
   },
   "file_extension": ".py",
   "mimetype": "text/x-python",
   "name": "python",
   "nbconvert_exporter": "python",
   "pygments_lexer": "ipython2",
   "version": "2.7.6"
  }
 },
 "nbformat": 4,
 "nbformat_minor": 5
}
